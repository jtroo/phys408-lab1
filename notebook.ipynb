{
 "cells": [
  {
   "cell_type": "markdown",
   "metadata": {
    "git": {
     "suppress_outputs": true
    },
    "toc-hr-collapsed": false
   },
   "source": [
    "# Phys 408 - Lab 1 - Michelson Interferometer\n",
    "#### Jan Tache, Javier Velarde"
   ]
  },
  {
   "cell_type": "markdown",
   "metadata": {},
   "source": [
    "## Objectives\n",
    "\n",
    "- To observe and manipulate intereference patterns with different light sources\n",
    "- To use the interfence patterns to determine information about the wavelengths in the light sources and the differences in the beam paths\n",
    "- To use Fourier transform spectroscopy to determine the wavelengths in the different light sources"
   ]
  },
  {
   "cell_type": "markdown",
   "metadata": {
    "toc-hr-collapsed": true
   },
   "source": [
    "## Day 1 - 2019/01/16"
   ]
  },
  {
   "cell_type": "markdown",
   "metadata": {},
   "source": [
    "Mount sodium lamp and white light lamp on a post with the double ended 90 degree offset clamp.\n",
    "\n",
    "lower right knob is horizontal mirror alignment\n",
    "upper left knob is vertical mirror alignment\n",
    "\n",
    "Issues with APT User program\n",
    " - Would not display anything\n",
    " - Checked USB cable, connection was fine\n",
    " - Checked motor power - it was on\n",
    " - Rebooting the PC worked\n",
    "\n",
    "Note: don't touch the table at all once MATLAB script is running. Any small movements will perturb the interferometer distances slightly. Even walking too strongly will do so.\n",
    "\n",
    "Method to get close to ZPL:\n",
    "\n",
    "1. Use a metre stick and place the mirror on the stage and the 2nd mirror at as close to equal distance from the beam splitter as possible.\n",
    "    - Measure from the closest face of the beam splitter to the front of the mirror\n",
    "1. Use HeNe laser to align mirrors initially\n",
    "1. check that on the outer surface of the beam splitter cube, the two points from one of the split beams were on top of each other\n",
    "    - Do this individually for each mirror\n",
    "1. Then align a piece of paper with a hole in it such that one of the laser beams passes through the hole\n",
    "1. Now put a piece of paper in front of the camera, and adjust the mirrors slightly until the light shows nice interference rings\n",
    "1. Place the diffusing lens in front of the HeNe laser and align it so that the beam still passes through the hole in the paper.\n",
    "1. Adjust the stage using the APT User program to get one large circle on the camera\n"
   ]
  },
  {
   "cell_type": "markdown",
   "metadata": {},
   "source": [
    "Found somewhere close to ZPL at 1.4 unit on stage adjustment the program with HeNe laser.\n",
    "\n",
    "![](images_2019-01-16/2018-01-16-zpl_with_hene.png)"
   ]
  },
  {
   "cell_type": "markdown",
   "metadata": {},
   "source": [
    "After finding the ZPL, we switched to the sodium lamp:\n",
    "\n",
    "1. turn off HeNe laser\n",
    "1. swap the CCD filter to a camera lens\n",
    "1. position the sodium lamp behind a light diffuser\n",
    "1. turn on the sodium lamp - it takes a while to warm up and reach full intensity\n",
    "1. adjust the aperture on the camera lens in order to be able to see the very faint interference pattern\n"
   ]
  },
  {
   "cell_type": "markdown",
   "metadata": {},
   "source": [
    "Here are some different fringe patterns\n",
    "\n",
    "1 ![](images_2019-01-16/2018-01-16-circles_moved_mirror_centre.png)\n",
    "\n",
    "After aligning with the HeNe laser, we adjusted the stage to get good visibility with the mirrors centered\n",
    "    \n",
    "    \n",
    "2 ![](images_2019-01-16/2018-01-16-sodium-maybe-zpl.png)\n",
    "\n",
    "To produce this one, we adjusted the stage slightly from the previous to get desctructive inteference in the middle. Since the inner circle is so large, we assume that this is close to the ZPL.\n",
    "    \n",
    "    \n",
    "3 ![](images_2019-01-16/2018-01-16-vertical_not_centered.png)\n",
    "\n",
    "To produce vertical lines, we moved one of the mirrors using the lower knob to reflect slightly to the right\n",
    "\n",
    "\n",
    "4 ![](images_2019-01-16/2018-01-16-vertical_narrower.png)\n",
    "\n",
    "To produce thinner vertical lines, we moved the mirror from before to reflect even further to the right\n",
    "\n",
    "\n",
    "5 ![](images_2019-01-16/2018-01-16-narrower_off_centre.png)\n",
    "\n",
    "to produce horizontal curved lines, we did a similar procedure to 3 and 4, but used the upper left knob to reflect the image upwards\n",
    "\n",
    "\n",
    "6 ![](images_2019-01-16/2018-01-16-even-narrower_off_centre.png)\n",
    "\n",
    "to produce narrower curved lines, we did a similar procedure to 3 and 4, but used the upper left knob to move the image even further upwards\n",
    "\n",
    "\n",
    "7 ![](images_2019-01-16/2018-01-16-sodium_part_circle.png)\n",
    "\n",
    "To produce diagonal curved lines, we combined movements of both knobs.\n",
    "\n",
    "8 ![](images_2019-01-16/2018-01-16-sodium_zpl_maybe_v2.png)\n",
    "\n",
    "To produce a barely visible fringe pattern, we moved the stage so that the beams  differed by many wavelengths."
   ]
  },
  {
   "cell_type": "markdown",
   "metadata": {},
   "source": [
    "### Explanation\n",
    "\n",
    "The interferometer we are using splits a light source beam from a single source in two different ones, having them both reflected and combined in one beam so that the interference patterns can be identified. Modeling this as two point sources separated by some distance is an accurate way to represent the interferometer, because it would act the same way; the two light beams create some sort of interference when they are combined, and the distance between them represents the difference in distance between each mirror that reflects a beam from the point where they are recombined. \n",
    "\n",
    "The rate of change of the phase difference between two electric fields with respect to the distance from their axis of separation increases as the distance from the axis increases. This is shown in the images as the increase in number of fringes in a given distance when the mirrors are pointed further away from each other. \n",
    "\n",
    "Changing the separation between the point sources changes the initial phase difference as well as the derivative of the phase difference with respect to distance from the axis of separation. When the point sources are right on top of each other, there should be no fringes at all, and this will also be seen when the interferometer is at the zero path length difference point."
   ]
  },
  {
   "cell_type": "markdown",
   "metadata": {
    "toc-hr-collapsed": false
   },
   "source": [
    "## Day 2 - 2019/01/23"
   ]
  },
  {
   "cell_type": "markdown",
   "metadata": {},
   "source": [
    "### Sodium coherence length and emission wavelengths"
   ]
  },
  {
   "cell_type": "markdown",
   "metadata": {},
   "source": [
    "For this we're using the sodium lamp in the interferometer setup to try and find its coherence length. First we try to compute the minimum distance that the stage should travel in order to capture sufficient data.\n",
    "\n",
    "We'll be using the following expected values for the D1 and D2 lines of the sodium emission spectrum, which we found online:\n",
    "\n",
    "D1 = 588.995 nm \n",
    "\n",
    "D2 = 589.592 nm \n",
    "\n",
    "from: http://hyperphysics.phy-astr.gsu.edu/hbase/quantum/sodium.html\n",
    "\n",
    "The value $D = N\\lambda_1 = (N+1)\\lambda_2$ is equal to the\n",
    "coherence length of sodium, where $\\lambda_1, \\lambda_2$ are the two\n",
    "emission wavelengths of the sodium lamp, with $\\lambda_1 > \\lambda_2$\n",
    "\n",
    "We can use this to determine the wavelength difference between the two emission wavelengths with the formula:\n",
    "\n",
    "$$\\Delta\\lambda = \\frac{\\lambda_1\\lambda_2}{D}$$\n",
    "\n",
    "We know $\\lambda_1$ and $\\lambda_2$ are close to each other, so we can replace the product $\\lambda_1\\lambda_2$ with the square of their average: $\\lambda^2$ to get:\n",
    "\n",
    "$$\\Delta\\lambda = \\frac{\\lambda^2}{D}$$\n",
    "\n",
    "To begin the experiment we want an estimate for D to know the\n",
    "minimum distance the stage should travel to gather the data.\n",
    "\n",
    "$$D = \\frac{\\lambda^2}{\\Delta\\lambda}$$"
   ]
  },
  {
   "cell_type": "code",
   "execution_count": 1,
   "metadata": {},
   "outputs": [
    {
     "name": "stdout",
     "output_type": "stream",
     "text": [
      "D =    5.8169e+05\n"
     ]
    }
   ],
   "source": [
    "% compute expected # of fringes until 1/2 avg wavelength\n",
    "lambda_1 = 589.592; % units: nm\n",
    "lambda_2 = 588.995; % units: nm\n",
    "\n",
    "avg_lambda = mean([lambda_1 lambda_2]);\n",
    "diff_lambda = (lambda_1 - lambda_2);\n",
    "D = avg_lambda^2 / diff_lambda % units: nm"
   ]
  },
  {
   "cell_type": "markdown",
   "metadata": {},
   "source": [
    "The distance from a maximum in visibility to another maximum in visibility is expected to be 582 $\\mu m$, so the stage should travel at least this distance to ensure we have sufficient information for the coherence length.\n",
    "\n",
    "Below is the raw data we gathered for the sodium coherence length. The setting we ended up using was an offset of 720 $\\mu m$ at a velocity of 1 $\\mu m/s$, so a total expected travel of 1440 $mm$."
   ]
  },
  {
   "cell_type": "code",
   "execution_count": 2,
   "metadata": {},
   "outputs": [
    {
     "data": {
      "image/png": "[encoded data removed]",
      "text/plain": [
       "<IPython.core.display.Image object>"
      ]
     },
     "metadata": {},
     "output_type": "display_data"
    }
   ],
   "source": [
    "v_orig = csvread('test_data-2019-01-23/2019-01-23-sodium-coherence-0.72-0.001');\n",
    "plot(v_orig)\n",
    "title('Raw intensity data for sodium lamp, 0.72 mm distance, 0.001 mm desired velocity')\n",
    "xlabel('sample #')\n",
    "ylabel('intensity (arbitrary units)')"
   ]
  },
  {
   "cell_type": "markdown",
   "metadata": {},
   "source": [
    "### Processing the sodium coherence data\n",
    "\n",
    "In order to process this raw data, we did the following steps:\n",
    "\n",
    "1. truncate the garbage data at the two ends\n",
    "2. subtract the mean value from every value to center the oscillations around 0\n",
    "3. square every value - only care about magnitude of the oscillation\n",
    "4. smooth the data with a moving average\n",
    "5. manually select sample intervals to find the positions of local minima and maxima\n",
    "6. compute the differences between successive maxima, and between succesive minima separately\n",
    "\n",
    "The result of these steps gives us the number of frames representing the coherenece length of sodium emissions"
   ]
  },
  {
   "cell_type": "code",
   "execution_count": 3,
   "metadata": {},
   "outputs": [
    {
     "data": {
      "image/png": "[encoded data removed]",
      "text/plain": [
       "<IPython.core.display.Image object>"
      ]
     },
     "metadata": {},
     "output_type": "display_data"
    }
   ],
   "source": [
    "% truncate the data to keep the useful parts\n",
    "v = v_orig(1000:42000);\n",
    "% normalize the oscillations to be around 0\n",
    "v = v - sum(v) / length(v);\n",
    "% square the intensity\n",
    "v = v.^2;\n",
    "\n",
    "% smooth the data with a running average\n",
    "v2 = [];\n",
    "for i = 1:length(v)-1500\n",
    "    v2(i) = sum(v(i:i+1499)) / 1500;\n",
    "end\n",
    "\n",
    "plot(v2)\n",
    "title('Processed sodium coherence length data')\n",
    "xlabel('sample #')\n",
    "ylabel('intensity (arbitrary units)')"
   ]
  },
  {
   "cell_type": "code",
   "execution_count": 4,
   "metadata": {},
   "outputs": [
    {
     "name": "stdout",
     "output_type": "stream",
     "text": [
      "maxima_diffs =\n",
      "\n",
      "   8324   8717   8519\n",
      "\n",
      "minima_diffs =\n",
      "\n",
      "   8644   8602   8648   8617\n",
      "\n"
     ]
    }
   ],
   "source": [
    "% find maxima in smoothed data\n",
    "\n",
    "maxima_idx = [];\n",
    "[_, i] = max(v2(8000:10000));\n",
    "maxima_idx(end+1) = i + 8000 - 1;\n",
    "[_, i] = max(v2(15000:18000));\n",
    "maxima_idx(end+1) = i + 15000 - 1;\n",
    "[_, i] = max(v2(24000:27000));\n",
    "maxima_idx(end+1) = i + 24000 - 1;\n",
    "[_, i] = max(v2(32000:35000));\n",
    "maxima_idx(end+1) = i + 32000 - 1;\n",
    "\n",
    "maxima_diffs = diff(maxima_idx)\n",
    "\n",
    "% find minima in smoothed data\n",
    "\n",
    "minima_idx = [];\n",
    "[_, i] = min(v2(3000:5000));\n",
    "minima_idx(end+1) = i + 3000 - 1;\n",
    "[_, i] = min(v2(12000:14000));\n",
    "minima_idx(end+1) = i + 12000 - 1;\n",
    "[_, i] = min(v2(21000:24000));\n",
    "minima_idx(end+1) = i + 21000 - 1;\n",
    "[_, i] = min(v2(29000:31000));\n",
    "minima_idx(end+1) = i + 29000 - 1;\n",
    "[_, i] = min(v2(37000:39500));\n",
    "minima_idx(end+1) = i + 37000 - 1;\n",
    "\n",
    "minima_diffs = diff(minima_idx)"
   ]
  },
  {
   "cell_type": "code",
   "execution_count": 5,
   "metadata": {},
   "outputs": [
    {
     "name": "stdout",
     "output_type": "stream",
     "text": [
      "average_sample_diff_NA_extremes =  8581.6\n",
      "stddev_avg_sample_diff_NA_extremes =  128.18\n"
     ]
    }
   ],
   "source": [
    "% Average sample diff\n",
    "average_sample_diff_NA_extremes = mean([maxima_diffs minima_diffs])\n",
    "stddev_avg_sample_diff_NA_extremes = std([maxima_diffs minima_diffs])\n"
   ]
  },
  {
   "cell_type": "markdown",
   "metadata": {},
   "source": [
    "### Result of processing sodium coherence data\n",
    "\n",
    "The mean number of frames between successive minima or successive\n",
    "maxima is:\n",
    "\n",
    "$8582 \\pm 128$ frames\n",
    "\n",
    "Using this number of frames we can determine the distance between the extremes with our stage calibration velocity.\n",
    "\n"
   ]
  },
  {
   "cell_type": "markdown",
   "metadata": {
    "toc-hr-collapsed": true
   },
   "source": [
    "### Stage velocity calibration\n",
    "\n",
    "We cannot trust that the stage motor will travel at the speed that we expect, so we must find a distance scaling factor $K$ that satisfies the following:\n",
    "\n",
    "$$\n",
    "d_{true} = K * d_{expected}\n",
    "$$\n",
    "\n",
    "Where $d_{true}$ is the actual distance travelled and $d_{expected}$\n",
    "is the distance expected based on our input into the MATLAB program\n",
    "\n",
    "In order to calibrate the stage velocity, we used the HeNe laser, which is a monochromatic light source with a well known wavelength. The value for the HeNe laser wavelength that we use is:\n",
    "\n",
    "$\\lambda$ = 632.8 nm\n",
    "\n",
    "The goal is to measure number of frames that occur between each maximum in intensity and each minimum in intensity. The mean of this value represents the number of frames needed by the stage to travel one wavelength of the HeNe laser.\n",
    "\n",
    "The algorithm we use to compute this does the following things:\n",
    "* find an interval in which the peak of one oscillation occurs\n",
    "* do this for all peaks in the data set\n",
    "* find the position of the maximum in each interval\n",
    "* do a similar method for the minima\n"
   ]
  },
  {
   "cell_type": "markdown",
   "metadata": {},
   "source": [
    "#### Velocity calibration at 0.1 $\\mu m /s$"
   ]
  },
  {
   "cell_type": "code",
   "execution_count": 6,
   "metadata": {},
   "outputs": [
    {
     "data": {
      "image/png": "[encoded data removed]",
      "text/plain": [
       "<IPython.core.display.Image object>"
      ]
     },
     "metadata": {},
     "output_type": "display_data"
    }
   ],
   "source": [
    "data_orig = csvread('test_data-2019-01-23/2019-01-23-HeNe-calib-0.01-0.0001');\n",
    "plot(data_orig)\n",
    "title('Raw calibration data at 0.01 mm offset and 0.0001 mm/sec velocity')\n",
    "xlabel('sample #')\n",
    "ylabel('intensity (arbitrary units)')"
   ]
  },
  {
   "cell_type": "markdown",
   "metadata": {},
   "source": [
    "It looks like decent data starts after about 1000 samples. So we'll use the number of samples between peaks starting from sample 1000 to know the actual velocity.\n",
    "\n",
    "We'll use a peak-finding algorithm with hysteresis to compute the peaks."
   ]
  },
  {
   "cell_type": "code",
   "execution_count": 7,
   "metadata": {},
   "outputs": [
    {
     "data": {
      "image/png": "[encoded data removed]",
      "text/plain": [
       "<IPython.core.display.Image object>"
      ]
     },
     "metadata": {},
     "output_type": "display_data"
    }
   ],
   "source": [
    "data = data_orig(1000:end);\n",
    "\n",
    "% This number was chosen experimentally by trying different values\n",
    "% and choosing the width that produced the best looking data.\n",
    "average_width = 20;\n",
    "\n",
    "v2 = [];\n",
    "for i = 1:length(data)-average_width\n",
    "    v2(i) = mean(data(i:i+average_width-1));\n",
    "end\n",
    "\n",
    "data = v2;\n",
    "plot(data)\n",
    "title('Processed intensity data (0.1 um/s)')\n",
    "xlabel('sample #')\n",
    "ylabel('intensity (arbitrary units)')"
   ]
  },
  {
   "cell_type": "code",
   "execution_count": 8,
   "metadata": {},
   "outputs": [],
   "source": [
    "% Returns the distances between peaks with hysteresis to detect\n",
    "% differences between the peaks.\n",
    "%\n",
    "% PARAMETERS\n",
    "% low: some number greater than the largest minimum of all troughs\n",
    "% high: some number smaller than the smallest maximum of all peaks\n",
    "% data: array or 1-D matrix containing intensity data\n",
    "function [peak_diffs, trough_diffs] = hysteresis_diffs(low, high, data)\n",
    "    max_left_bounds = [];\n",
    "    max_right_bounds = [];\n",
    "    \n",
    "    % find the left and right bounds of the local maximum for each peak\n",
    "    found_max = 0;\n",
    "    for i=1:length(data)\n",
    "        if (!found_max && data(i) > high)\n",
    "            found_max = 1;\n",
    "            max_left_bounds(end+1) = i;\n",
    "        elseif (found_max && data(i) < low)\n",
    "            found_max = 0;\n",
    "            max_right_bounds(end+1) = i;\n",
    "        end\n",
    "    end\n",
    "    if (found_max)\n",
    "            max_right_bounds(end+1) = length(data);\n",
    "    end\n",
    "    \n",
    "    % find the location of maxima for each peak and compute the differences between them\n",
    "    peaks = [];\n",
    "    for i=1:length(max_left_bounds)\n",
    "        [_, peaks(i)] = max(data(max_left_bounds(i):max_right_bounds(i)));\n",
    "        peaks(i) += max_left_bounds(i)-1;\n",
    "    end\n",
    "    \n",
    "    % find the location of minima for each trough and compute the differences between them\n",
    "    troughs = [];\n",
    "    for i=1:length(max_left_bounds)-1\n",
    "        [_, troughs(i)] = min(data(max_right_bounds(i):max_left_bounds(i+1)));\n",
    "        troughs(i) += max_right_bounds(i)-1;\n",
    "    end\n",
    "    \n",
    "    peak_diffs = diff(peaks);\n",
    "    trough_diffs = diff(troughs);\n",
    "end"
   ]
  },
  {
   "cell_type": "code",
   "execution_count": 9,
   "metadata": {},
   "outputs": [
    {
     "name": "stdout",
     "output_type": "stream",
     "text": [
      "velocity_nm_frame_0_1us =  5.3013\n",
      "std_dev_velocity_nm_frame_0_1us =  0.63110\n",
      "velocity_nm_sec_0_1us =  159.04\n",
      "std_velocity_nm_sec_0_1us =  18.933\n"
     ]
    },
    {
     "data": {
      "image/png": "[encoded data removed]",
      "text/plain": [
       "<IPython.core.display.Image object>"
      ]
     },
     "metadata": {},
     "output_type": "display_data"
    },
    {
     "data": {
      "image/png": "[encoded data removed]",
      "text/plain": [
       "<IPython.core.display.Image object>"
      ]
     },
     "metadata": {},
     "output_type": "display_data"
    }
   ],
   "source": [
    "% The low and high for hysteresis counts were chosen visually by looking\n",
    "% at the plot of the processed intensity data.\n",
    "[diffs, diffs2] = hysteresis_diffs(8000, 17000, data);\n",
    "figure(1)\n",
    "plot(diffs);\n",
    "title('Number of samples between successive peaks (0.1um/s)')\n",
    "xlabel('peak #')\n",
    "ylabel('# of samples')\n",
    "\n",
    "figure(2);\n",
    "plot(diffs2);\n",
    "title('Number of samples between successive troughs (0.1um/s)')\n",
    "xlabel('trough #')\n",
    "ylabel('# of samples')\n",
    "\n",
    "mean_diffs = mean([diffs diffs2]);\n",
    "std_diffs = std([diffs diffs2]);\n",
    "velocity_nm_frame_0_1us = 632.8 / mean_diffs\n",
    "std_dev_velocity_nm_frame_0_1us = velocity_nm_frame_0_1us * std_diffs / mean_diffs\n",
    "velocity_nm_sec_0_1us = velocity_nm_frame_0_1us * 30\n",
    "std_velocity_nm_sec_0_1us = std_dev_velocity_nm_frame_0_1us * 30"
   ]
  },
  {
   "cell_type": "markdown",
   "metadata": {},
   "source": [
    "The velocity of the cart is 5.3 nm/frame with a standard deviation of 0.6 nm/frame."
   ]
  },
  {
   "cell_type": "markdown",
   "metadata": {},
   "source": [
    "#### Velocity calibration of 1 $\\mu m/s$\n",
    "\n",
    "The same methods were used as with the 0.1 $\\mu m/s$ calibration."
   ]
  },
  {
   "cell_type": "code",
   "execution_count": 10,
   "metadata": {},
   "outputs": [],
   "source": [
    "data_orig = csvread('test_data-2019-01-23/2019-01-23-HeNe-calib-0.12-0.001');"
   ]
  },
  {
   "cell_type": "code",
   "execution_count": 11,
   "metadata": {},
   "outputs": [],
   "source": [
    "data = data_orig(1000:end-300);\n",
    "\n",
    "average_width = 2;\n",
    "v2 = [];\n",
    "for i = 1:length(data)-average_width\n",
    "    v2(i) = mean(data(i:i+average_width-1));\n",
    "end"
   ]
  },
  {
   "cell_type": "code",
   "execution_count": 12,
   "metadata": {},
   "outputs": [
    {
     "name": "stdout",
     "output_type": "stream",
     "text": [
      "velocity_nm_frame_1um =  67.133\n",
      "stddev_velocity_nm_frame_1um =  5.3716\n",
      "velocity_nm_1um =  2014.0\n",
      "stddev_velocity_nm_1um =  161.15\n"
     ]
    },
    {
     "data": {
      "image/png": "[encoded data removed]",
      "text/plain": [
       "<IPython.core.display.Image object>"
      ]
     },
     "metadata": {},
     "output_type": "display_data"
    },
    {
     "data": {
      "image/png": "[encoded data removed]",
      "text/plain": [
       "<IPython.core.display.Image object>"
      ]
     },
     "metadata": {},
     "output_type": "display_data"
    }
   ],
   "source": [
    "data = v2;\n",
    "[diffs diffs2] = hysteresis_diffs(10000, 16000, data);\n",
    "\n",
    "figure(1)\n",
    "plot(diffs);\n",
    "title('Number of samples between successive peaks')\n",
    "xlabel('peak #')\n",
    "ylabel('# of samples')\n",
    "\n",
    "figure(2)\n",
    "plot(diffs2);\n",
    "title('Number of samples between successive troughs')\n",
    "xlabel('trough #')\n",
    "ylabel('# of samples')\n",
    "\n",
    "mean_diffs = mean([diffs diffs2]);\n",
    "stddev_diffs = std([diffs diffs2]);\n",
    "velocity_nm_frame_1um = 632.8 / mean(diffs)\n",
    "stddev_velocity_nm_frame_1um = velocity_nm_frame_1um * stddev_diffs / mean_diffs\n",
    "velocity_nm_1um = 30 * velocity_nm_frame_1um\n",
    "stddev_velocity_nm_1um = 30 * stddev_velocity_nm_frame_1um"
   ]
  },
  {
   "cell_type": "markdown",
   "metadata": {},
   "source": [
    "### Summary of velocity calibration\n",
    "\n",
    "The true velocity of the stage when set to travel at 0.1 $\\mu m/sec$\n",
    "is:\n",
    "\n",
    "0.159 $\\pm$ 0.019 $\\mu m/sec$\n",
    "\n",
    "\n",
    "The true velocity of the stage when set to travel at 1 $mu m/sec$ is:\n",
    "\n",
    "2.014 $\\pm$ 0.161 $\\mu m/sec$\n",
    "\n",
    "So the scaling factors are:\n",
    "\n",
    "$K_{0.1\\mu m/s} = 1.59$\n",
    "\n",
    "$K_{1\\mu m/s} = 2.014$\n",
    "\n",
    "The true velocities of the stage are quite different from their\n",
    "expected velocities. And it is worth noting that the standard\n",
    "deviation in these values is larger than we would have expected.\n",
    "This may be due to the sensitivity of the Michelson interferometer\n",
    "and the amount of difference that a tiny perturbation can make.\n",
    "So vibrations through the floor or vibrations due to the movement\n",
    "of the motor itself can affect the intensity readings. It may also\n",
    "be due to inconsistency in the intensity readings of the camera."
   ]
  },
  {
   "cell_type": "markdown",
   "metadata": {
    "toc-hr-collapsed": true
   },
   "source": [
    "### Computed coherence length of sodium\n",
    "\n",
    "Based on the values found above, we can compute the value of sodium's coherence length."
   ]
  },
  {
   "cell_type": "code",
   "execution_count": 13,
   "metadata": {},
   "outputs": [
    {
     "name": "stdout",
     "output_type": "stream",
     "text": [
      "D_sodium =    5.7611e+05\n",
      "D_sodium_err =    4.6893e+04\n",
      "percent_diff =  0.0095874\n"
     ]
    }
   ],
   "source": [
    "D_sodium = velocity_nm_frame_1um * average_sample_diff_NA_extremes % units: nm\n",
    "D_sodium_err = D_sodium * ...\n",
    "    sqrt((stddev_velocity_nm_frame_1um / velocity_nm_frame_1um)^2 + ...\n",
    "         (stddev_avg_sample_diff_NA_extremes / average_sample_diff_NA_extremes)^2)\n",
    "                 \n",
    "percent_diff = 1 - D_sodium / D\n",
    "                 "
   ]
  },
  {
   "cell_type": "markdown",
   "metadata": {},
   "source": [
    "The computed coherence length $D$ is:\n",
    "\n",
    "$ 576 \\pm 47 \\mu m$\n",
    "\n",
    "This is well within the margin of error of our previously\n",
    "computed expected value of 581.7 $\\mu m$, and is only\n",
    "1% different."
   ]
  },
  {
   "cell_type": "markdown",
   "metadata": {},
   "source": [
    "### Compute average wavelength of sodium and wavelength difference\n",
    "\n",
    "To compute the average wavelength of sodium, we can apply the same\n",
    "computation as we did with the velocity calibrations."
   ]
  },
  {
   "cell_type": "code",
   "execution_count": 14,
   "metadata": {},
   "outputs": [
    {
     "name": "stdout",
     "output_type": "stream",
     "text": [
      "mean_sodium_wl_diffs =  109.02\n",
      "std_dev_sodium_wl_diffs =  15.190\n",
      "nm_sodium_avg_wl =  577.96\n",
      "err_nm_sodium_avg_wl =  105.92\n"
     ]
    }
   ],
   "source": [
    "sodium_wl_data = csvread(\"test_data-2019-01-23/Sodium-Fourier-0.03-0.0001\");\n",
    "sodium_wl_data = sodium_wl_data(5000:17000); % truncate data based on qualitative analysis\n",
    "sodium_smoothed = [];\n",
    "averaging_width = 20;\n",
    "for i = 1:length(sodium_wl_data)-averaging_width\n",
    "    sodium_smoothed(i) = mean(sodium_wl_data(i:i+averaging_width-1));\n",
    "end\n",
    "[sodium_wl_diffs, sodium_wl_diffs2] = hysteresis_diffs(7500,10000,sodium_smoothed);\n",
    "diffs = [sodium_wl_diffs, sodium_wl_diffs2];\n",
    "\n",
    "% compute actual values\n",
    "mean_sodium_wl_diffs = mean(diffs)\n",
    "std_dev_sodium_wl_diffs = std(diffs)\n",
    "nm_sodium_avg_wl = mean_sodium_wl_diffs * velocity_nm_frame_0_1us\n",
    "err_nm_sodium_avg_wl = nm_sodium_avg_wl * ...\n",
    "    sqrt((std_dev_sodium_wl_diffs/mean_sodium_wl_diffs)^2 + ...\n",
    "         (std_dev_velocity_nm_frame_0_1us/velocity_nm_frame_0_1us)^2)"
   ]
  },
  {
   "cell_type": "code",
   "execution_count": 15,
   "metadata": {},
   "outputs": [
    {
     "name": "stdout",
     "output_type": "stream",
     "text": [
      "wl_diff =  0.57982\n",
      "err_wl_diff =  0.15751\n"
     ]
    }
   ],
   "source": [
    "wl_diff = nm_sodium_avg_wl^2 / D_sodium\n",
    "err_wl_diff = wl_diff * ...\n",
    "    sqrt(2*(err_nm_sodium_avg_wl/nm_sodium_avg_wl)^2 +\n",
    "           (D_sodium_err/D_sodium)^2)"
   ]
  },
  {
   "cell_type": "markdown",
   "metadata": {},
   "source": [
    "Based on our data and calculations, the average wavelength\n",
    "$\\lambda$ of sodium \n",
    "is:\n",
    "\n",
    "578 $\\pm$ 106 nm\n",
    "\n",
    "and the difference between the two wavelengths, $\\Delta\\lambda$ is:\n",
    "\n",
    "0.58 $\\pm$ 0.16 nm.\n",
    "\n",
    "Using the values for D1 and D2 from before, the expected average\n",
    "wavelength is 589.3 nm and the expected difference in wavelength\n",
    "is 0.6 nm.\n",
    "\n",
    "The values we calculated from our results are, the wavelength is 2%\n",
    "smaller than expected and the difference is 3% smaller than expected.\n",
    "This is well within the large margin of error in our experiments.\n",
    "\n",
    "The error is so large because of the large errors in reading the\n",
    "peak-to-peak frame differences between consecutive extremes,\n",
    "which is incorporated twice in the wavelength - once in the stage velocity and again with the average\n",
    "frame difference between peaks. This is further amplified in the\n",
    "calculation of $\\Delta\\lambda$"
   ]
  },
  {
   "cell_type": "markdown",
   "metadata": {
    "toc-hr-collapsed": true
   },
   "source": [
    "### Index of refraction of air\n",
    "\n",
    "In this experiment we used the HeNe laser and passed one of the beams through a 10cm vacuum chamber. The beam passes through the vacuum chamber twice, and so has a total path length of 20cm inside the chamber. The path length difference in the glass of the vacuum chamber is not relevant to this experiment since it is kept constant throughout, and we don't need to be at the ZPL point.\n",
    "\n",
    "We first evacuated the air from the chamber, started the vid_capture program and ran it for 2 minutes, then slowly leaked air back into the vacuum chamber. Based on prior reading, we  expect the index of refraction of air at STP to be about 1.00029. The number of expected fringes that should pass between a vacuum and having the chamber full of air again is computed below."
   ]
  },
  {
   "cell_type": "markdown",
   "metadata": {},
   "source": [
    "$$(1-1.00029^{-1}) * 20cm * 10^7 \\frac{nm}{cm} \\div 632.8 \\frac{nm}{fringe} \\approx 91.6 \\textrm{ fringes}$$"
   ]
  },
  {
   "cell_type": "code",
   "execution_count": 16,
   "metadata": {},
   "outputs": [
    {
     "name": "stdout",
     "output_type": "stream",
     "text": [
      "ans =  91.630\n"
     ]
    }
   ],
   "source": [
    "(1-1.00029^-1)*20*10^7/632.8"
   ]
  },
  {
   "cell_type": "markdown",
   "metadata": {},
   "source": [
    "#### Data processing"
   ]
  },
  {
   "cell_type": "markdown",
   "metadata": {},
   "source": [
    "To process the data we need to count the number of peaks that occur as we slowly release into the chamber."
   ]
  },
  {
   "cell_type": "code",
   "execution_count": 17,
   "metadata": {},
   "outputs": [
    {
     "data": {
      "image/png": "[encoded data removed]",
      "text/plain": [
       "<IPython.core.display.Image object>"
      ]
     },
     "metadata": {},
     "output_type": "display_data"
    }
   ],
   "source": [
    "v = csvread('test_data-2019-01-23/HeNe-vacuum-120');\n",
    "plot(v)\n",
    "title('HeNe vacuum experiment data - intensity of each sample')\n",
    "xlabel('sample #')\n",
    "ylabel('intensity (arbitrary units)')"
   ]
  },
  {
   "cell_type": "markdown",
   "metadata": {},
   "source": [
    "Visually it looks like all of the peaks go above 20000 and all of the\n",
    "troughs go below 8000. We can use the same algorithm as before, but\n",
    "instead of using the differences, all we need is the length of the\n",
    "difference array. But we should add 1 to the length, since the length\n",
    "of the differences is 1 less than the number of maxima."
   ]
  },
  {
   "cell_type": "code",
   "execution_count": 18,
   "metadata": {},
   "outputs": [],
   "source": [
    "count = length(hysteresis_diffs(8000, 20000, v)) + 1;"
   ]
  },
  {
   "cell_type": "markdown",
   "metadata": {},
   "source": [
    "Our experimentally computed value for the index of refraction of air\n",
    "can be computed by moving the values around in the previous equation:\n",
    "\n",
    "\n",
    "$$\n",
    "n_{air} = \\left(1 - N_{fringes} \\div 20 cm \\div 10^7 \\frac{nm}{cm}\n",
    "* 632.8 \\frac{nm}{fringe}\\right)^{-1}\n",
    "$$"
   ]
  },
  {
   "cell_type": "code",
   "execution_count": 19,
   "metadata": {},
   "outputs": [
    {
     "name": "stdout",
     "output_type": "stream",
     "text": [
      "idx =     1.00022152906426\n"
     ]
    }
   ],
   "source": [
    "format long g\n",
    "idx = (1 - count * 632.8 / 10^7 / 20)^-1"
   ]
  },
  {
   "cell_type": "markdown",
   "metadata": {},
   "source": [
    "We find a value for $n_{air}$ to be 1.00022,\n",
    "which is in a similar order of magnitude as the accepted value\n",
    "1.00029, but the difference in their offset from 1 is 24%. We don't think this large of a difference can be explained by\n",
    "the difference in the air conditions from STP.\n",
    "One of our initial guesses is that the pump is unable to create a perfect vacuum. \n",
    "Another guess is that we may not have let the chamber reach STP, as the graph is not\n",
    "showing a steady state, and we did not open the valve further when the airflow into\n",
    "the chamber slowed.\n",
    "Also, it could be that the index of refraction in\n",
    "air for shorter wavelengths is quite different from the value we found online. As well, perhaps the internal length of the vacuum chamber is\n",
    "not 20 cm as we expect.\n",
    "\n",
    "We will try this experiment again next day.\n",
    "\n",
    "\n",
    "\n",
    "\n"
   ]
  },
  {
   "cell_type": "markdown",
   "metadata": {
    "toc-hr-collapsed": true
   },
   "source": [
    "### Fourier analysis\n"
   ]
  },
  {
   "cell_type": "markdown",
   "metadata": {},
   "source": [
    "TODO: discussion"
   ]
  },
  {
   "cell_type": "code",
   "execution_count": 20,
   "metadata": {},
   "outputs": [
    {
     "data": {
      "image/png": "[encoded data removed]",
      "text/plain": [
       "<IPython.core.display.Image object>"
      ]
     },
     "metadata": {},
     "output_type": "display_data"
    }
   ],
   "source": [
    "M=csvread('test_data-2019-01-23/Sodium-Fourier-0.03-0.0001');\n",
    "N=M(4900:17800);\n",
    "P=N-mean(N);\n",
    "% Y=(abs(fft(P)));\n",
    "Y=fft(P);\n",
    "% plot(Y)\n",
    "L = 12901;             % Length of signal\n",
    "P2 = abs(Y/L);\n",
    "P1 = P2(1:L/2+1);\n",
    "P1(2:end-1) = 2*P1(2:end-1);\n",
    "Fs = 30; %sampling frequency\n",
    "f = Fs*(0:(L/2))/L;\n",
    "plot(f,P1) \n",
    "title('Sodium fourier data');\n",
    "xlabel('Digital spatial frequency component');\n",
    "ylabel('Magnitude of frequency component');\n",
    "xlim([0 0.5])"
   ]
  },
  {
   "cell_type": "code",
   "execution_count": 21,
   "metadata": {},
   "outputs": [
    {
     "data": {
      "image/png": "[encoded data removed]",
      "text/plain": [
       "<IPython.core.display.Image object>"
      ]
     },
     "metadata": {},
     "output_type": "display_data"
    }
   ],
   "source": [
    "M=csvread('test_data-2019-01-23/HeNe-fourier-0.03-0.0001');\n",
    "N=M(600:17800);\n",
    "P=N-mean(N);\n",
    "Q=fft(P);\n",
    "L = 17200;             % Length of signal\n",
    "P2 = abs(Q/L);\n",
    "P1 = P2(1:L/2+1);\n",
    "P1(2:end-1) = 2*P1(2:end-1);\n",
    "Fs = 30; %sampling frequency\n",
    "f = Fs*(0:(L/2))/L;\n",
    "plot(f,P1) \n",
    "title('HeNe fourier data');\n",
    "xlabel('Digital spatial frequency component');\n",
    "ylabel('Magnitude of frequency component');\n",
    "xlim([0 0.5])"
   ]
  }
 ],
 "metadata": {
  "kernelspec": {
   "display_name": "Octave",
   "language": "octave",
   "name": "octave"
  },
  "language_info": {
   "file_extension": ".m",
   "help_links": [
    {
     "text": "GNU Octave",
     "url": "https://www.gnu.org/software/octave/support.html"
    },
    {
     "text": "Octave Kernel",
     "url": "https://github.com/Calysto/octave_kernel"
    },
    {
     "text": "MetaKernel Magics",
     "url": "https://github.com/calysto/metakernel/blob/master/metakernel/magics/README.md"
    }
   ],
   "mimetype": "text/x-octave",
   "name": "octave",
   "version": "4.2.2"
  }
 },
 "nbformat": 4,
 "nbformat_minor": 2
}
