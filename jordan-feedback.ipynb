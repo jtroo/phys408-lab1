{
 "cells": [
  {
   "cell_type": "markdown",
   "metadata": {},
   "source": [
    "Jordan Fordyce\n",
    "\t\n",
    "Mon, Jan 28, 2:07 PM (1 day ago)\n",
    "\t\n",
    "to me, jvelardeflores\n",
    "Hey guys,\n",
    "\n",
    "Looks like a great start, good work! This and the cavity experiment are the two most difficult labs. The fact that you two are crushing it is a really good sign!\n",
    "\n",
    "Formatting/General:\n",
    "I like that you have a chronological stream with data/code/graphs with all axes labelled. This is really good. \n",
    "I like the explanation/discussion sections at the end that bring everything together. I see that listed as “To Do” in some places so make sure you do this! Great to include :)\n",
    "It would help me not have to look/check your code blocks if you had nice description of what equations your using or an intro explanation like what you did for the Sodium wavelengths section. Do a brief one for all of them. Would be a great addition.\n",
    "\n",
    "About specific sections:\n",
    "Calibration: \"The velocity of the car is 5.32 nm/frame…” \n",
    "What I’m missing is what the calibration constant is; something like d = KD where d is the true distance travelled (d = N\\lambda/2, N being the # of fringes) and D is the uncalibrated distance (calculated from # frames and knowing the camera is at 30 fps). It looks like you have all the info to say this, but I would like to see this conclusively written as opposed to having to hunt for it. I’m also happy you identified the calibration constant can change for different speeds.\n",
    "\n",
    "Wavelengths in Na: “Based on online readings…” \n",
    "This is fine to say but tell me explicitly here what numbers you are using. We know what wavelength the D1 and D2 lines are 589.16nm and 589.76nm. You can compare your measured average wavelength in the \\Delta\\lambda formula and compare when you use the true average sodium wavelength. I’d also appreciate a table summarizing your measured D1/D2 wavelengths with error to compare to the true values I listed above.\n",
    "Make sure you are using your calibration constant for any lengths (for example D in your \\Delta\\lambda formula).\n",
    "Don’t forget to state your coherence lengths when you get to this part. \n",
    "\n",
    "Index of Refraction:\n",
    "You are measuring n_{air} - the accepted value is 1.0003 I believe whereas n_{vac} (perfect) is 1 exactly. You should be comparing your measured value to n_{air}. The difference in these to indices of refraction is what gives a different number of fringes when you add/remove air from the chamber right? This is effectively changing the optical path length? The optical path length will be d0(n_{air} - 1) where d0 is the actual length of that chamber. \n",
    "\n",
    "Fourier Analysis:\n",
    "I’ll expect you to centre the frequency to the correct scale (I want to see wavelength (nm) on the x-axis). Your HeNe spectrum looks fine but the Na lamp I don’t see the doublet even? Your main peak is pretty broad so you might want to consider increasing your resolution by changing your scanning parameters. Don’t forget the white light spectrum. It’s a little easier and you can compare with the filter which is interesting.\n"
   ]
  }
 ],
 "metadata": {
  "kernelspec": {
   "display_name": "Octave",
   "language": "octave",
   "name": "octave"
  },
  "language_info": {
   "file_extension": ".m",
   "help_links": [
    {
     "text": "GNU Octave",
     "url": "https://www.gnu.org/software/octave/support.html"
    },
    {
     "text": "Octave Kernel",
     "url": "https://github.com/Calysto/octave_kernel"
    },
    {
     "text": "MetaKernel Magics",
     "url": "https://github.com/calysto/metakernel/blob/master/metakernel/magics/README.md"
    }
   ],
   "mimetype": "text/x-octave",
   "name": "octave",
   "version": "4.2.2"
  }
 },
 "nbformat": 4,
 "nbformat_minor": 2
}
